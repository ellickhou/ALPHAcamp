{
 "cells": [
  {
   "cell_type": "code",
   "execution_count": 1,
   "id": "da33d698-8345-47d6-bd54-6014b9d5933c",
   "metadata": {},
   "outputs": [],
   "source": [
    "import numpy as np\n",
    "import pandas as pd"
   ]
  },
  {
   "cell_type": "markdown",
   "id": "3d1be751-2c6a-4810-b5a1-f611d05612b5",
   "metadata": {},
   "source": [
    "# Part 1 問題"
   ]
  },
  {
   "cell_type": "markdown",
   "id": "2d2f5cc3-dd38-4f9e-8bb8-638c3f3cb4ab",
   "metadata": {},
   "source": [
    "## Q1. 載入資料＆簡易分析\n",
    "要求：\n",
    "1. 請將上述 metadata 資料載入成為 Pandas 的 DataFrame\n",
    "\n",
    "請回答：\n",
    "1. 在此份檔案當中，總共有多少筆資料？多少欄位？\n",
    "2. 在此份資料當中，擁有最多品項的前三名品牌為？"
   ]
  },
  {
   "cell_type": "code",
   "execution_count": 2,
   "id": "144207af-3e0f-4cb3-8dc0-412d301be90f",
   "metadata": {},
   "outputs": [],
   "source": [
    "# Demands\n",
    "P1_df = pd.read_json('./datasets/meta_All_Beauty.json', lines=True)"
   ]
  },
  {
   "cell_type": "code",
   "execution_count": 3,
   "id": "85879ec5-1b59-4870-8fa6-40eb1fa71f43",
   "metadata": {},
   "outputs": [
    {
     "name": "stdout",
     "output_type": "stream",
     "text": [
      "rows: 32892, columns:19\n",
      "最多品項的前三名品牌為:\n",
      " VAGA               252\n",
      "L'Oreal Paris      113\n",
      "Philips Norelco     88\n",
      "Name: brand, dtype: int64\n"
     ]
    }
   ],
   "source": [
    "# P1_df.info()\n",
    "# P1_df.head()\n",
    "\n",
    "\n",
    "# Ans\n",
    "## 1\n",
    "print(f'rows: {P1_df.shape[0]}, columns:{P1_df.shape[1]}')\n",
    "\n",
    "## 2\n",
    "brands_cleaned = P1_df.brand.apply(str).replace('', np.nan)\n",
    "print('最多品項的前三名品牌為:\\n',brands_cleaned.dropna().value_counts().head(3))\n"
   ]
  },
  {
   "cell_type": "markdown",
   "id": "73e0b462-2ee6-43c1-9f8f-6ce4ec917c72",
   "metadata": {},
   "source": [
    "## Q2. 清理資料＆調整格式\n",
    "要求：\n",
    "\n",
    "1. 移除資料中不必要的欄位，只留下 `'asin', 'brand', 'title', 'price', 'rank', 'description'`\n",
    "2. 將銷售排名 `rank` 中的排名字串抽取出來、轉為數字\n",
    "\n",
    "請回答：\n",
    "\n",
    "1. 找到資料中銷售排名最高的產品是第幾名？\n",
    "2. 最高銷售排名的產品為何？"
   ]
  },
  {
   "cell_type": "code",
   "execution_count": 4,
   "id": "25b83f99-649b-4e22-8587-013c276370cb",
   "metadata": {},
   "outputs": [],
   "source": [
    "# Demands\n",
    "\n",
    "## 1\n",
    "P1_df_cleaned = P1_df[['asin', 'brand', 'title', 'price', 'rank', 'description']].copy()\n",
    "\n",
    "## 2\n",
    "#type(P1_df_cleaned['rank'][0])\n",
    "rank_split = P1_df_cleaned['rank'].str.split(' ', n=1, expand=True)\n",
    "rank_numbers = pd.to_numeric(rank_split[0].str.split(',').str.join(''))\n",
    "P1_df_cleaned['rank'] = rank_numbers"
   ]
  },
  {
   "cell_type": "code",
   "execution_count": 5,
   "id": "4bd83a31-6b18-446b-b3f5-0c88411aac3b",
   "metadata": {},
   "outputs": [
    {
     "name": "stdout",
     "output_type": "stream",
     "text": [
      "資料中銷售排名最高的產品是第 35.0 名\n",
      "最高銷售排名的產品為:\n",
      " Braun Clean &amp; Renew Refill Cartridges CCR, 4 Count (Packaging May Vary)\n"
     ]
    }
   ],
   "source": [
    "# Ans\n",
    "\n",
    "## 1\n",
    "print(f'資料中銷售排名最高的產品是第 {np.min(rank_numbers)} 名')\n",
    "\n",
    "## 2\n",
    "no1 = P1_df_cleaned.sort_values(by=['rank'])['title'].values[0]\n",
    "print(f'最高銷售排名的產品為:\\n {no1}')"
   ]
  },
  {
   "cell_type": "markdown",
   "id": "52876155-03e5-4076-990a-1b43f2ea178b",
   "metadata": {
    "tags": []
   },
   "source": [
    "# Part 2 問題"
   ]
  },
  {
   "cell_type": "markdown",
   "id": "7e426dc5-998e-4c71-9002-db66cb132e75",
   "metadata": {
    "tags": []
   },
   "source": [
    "## Q3. 聚合資料\n",
    "\n",
    "要求：\n",
    "\n",
    "1. pandas 載入美妝品的評價資料\n",
    "\n",
    "請回答：\n",
    "\n",
    "1. 找到評價數最多的產品其 asin\n",
    "2. 上述產品的評價次數為？\n",
    "3. 上述產品的平均評價為？"
   ]
  },
  {
   "cell_type": "code",
   "execution_count": 6,
   "id": "1beffd8c-ca0d-4a5d-8bf7-afcb104a751e",
   "metadata": {},
   "outputs": [],
   "source": [
    "# Demands\n",
    "P2_df = pd.read_json('./datasets/All_Beauty.json', lines=True)\n",
    "# P2_df.info()"
   ]
  },
  {
   "cell_type": "code",
   "execution_count": 7,
   "id": "90e7dd6a-f3a9-49df-834f-a5cb1d365942",
   "metadata": {},
   "outputs": [
    {
     "name": "stdout",
     "output_type": "stream",
     "text": [
      "價數最多的產品為:\n",
      " B000FOI48G\n",
      "上述產品的評價次數為:\n",
      " 8672\n",
      "上述產品的平均評價為:\n",
      " 4.393450184501845\n"
     ]
    }
   ],
   "source": [
    "# P2_df.asin.value_counts()\n",
    "\n",
    "# Ans\n",
    "## Ans1\n",
    "most_reivewed_asin = P2_df.asin.value_counts().index[0]\n",
    "print(f'價數最多的產品為:\\n {most_reivewed_asin}')\n",
    "\n",
    "## Ans2\n",
    "most_reivewed_times = P2_df.asin.value_counts().values[0]\n",
    "print(f'上述產品的評價次數為:\\n {most_reivewed_times}')\n",
    "\n",
    "## Ans3\n",
    "most_reivewed_overall_mean = P2_df.groupby('asin')['overall'].mean()[most_reivewed_asin]\n",
    "print(f'上述產品的平均評價為:\\n {most_reivewed_overall_mean}')"
   ]
  },
  {
   "cell_type": "markdown",
   "id": "633fc085-b55c-42be-9803-f9bf1a44503b",
   "metadata": {
    "tags": []
   },
   "source": [
    "## Q4. 結合兩張表格\n",
    "要求：\n",
    "\n",
    "1. 將 Q2 取得的產品資料 DataFrame，加入 Q4 的評價資料作為欄位\n",
    "    1. `overall_mean` 紀錄產品的平均評分\n",
    "    2. `reviews_count` 紀錄評價次數\n",
    "\n",
    "請回答：\n",
    "\n",
    "1. 最高銷售排名的產品其使用者平均的評分？\n",
    "2. 最高銷售排名的產品其使用者評價次數？"
   ]
  },
  {
   "cell_type": "code",
   "execution_count": 8,
   "id": "afdc9e59-716e-41b6-95c9-724dedb29823",
   "metadata": {},
   "outputs": [
    {
     "data": {
      "text/html": [
       "<div>\n",
       "<style scoped>\n",
       "    .dataframe tbody tr th:only-of-type {\n",
       "        vertical-align: middle;\n",
       "    }\n",
       "\n",
       "    .dataframe tbody tr th {\n",
       "        vertical-align: top;\n",
       "    }\n",
       "\n",
       "    .dataframe thead th {\n",
       "        text-align: right;\n",
       "    }\n",
       "</style>\n",
       "<table border=\"1\" class=\"dataframe\">\n",
       "  <thead>\n",
       "    <tr style=\"text-align: right;\">\n",
       "      <th></th>\n",
       "      <th>asin</th>\n",
       "      <th>brand</th>\n",
       "      <th>title</th>\n",
       "      <th>price</th>\n",
       "      <th>rank</th>\n",
       "      <th>description</th>\n",
       "      <th>overall_mean</th>\n",
       "      <th>reviews_count</th>\n",
       "    </tr>\n",
       "  </thead>\n",
       "  <tbody>\n",
       "    <tr>\n",
       "      <td>0</td>\n",
       "      <td>6546546450</td>\n",
       "      <td>idea village</td>\n",
       "      <td>Loud 'N Clear&amp;trade; Personal Sound Amplifier</td>\n",
       "      <td></td>\n",
       "      <td>2938573.0</td>\n",
       "      <td>[Loud 'N Clear Personal Sound Amplifier allows...</td>\n",
       "      <td>2.5</td>\n",
       "      <td>2</td>\n",
       "    </tr>\n",
       "    <tr>\n",
       "      <td>1</td>\n",
       "      <td>7178680776</td>\n",
       "      <td></td>\n",
       "      <td>No7 Lift &amp;amp; Luminate Triple Action Serum 50...</td>\n",
       "      <td>$44.99</td>\n",
       "      <td>872854.0</td>\n",
       "      <td>[No7 Lift &amp; Luminate Triple Action Serum 50ml ...</td>\n",
       "      <td>3.0</td>\n",
       "      <td>1</td>\n",
       "    </tr>\n",
       "  </tbody>\n",
       "</table>\n",
       "</div>"
      ],
      "text/plain": [
       "         asin         brand  \\\n",
       "0  6546546450  idea village   \n",
       "1  7178680776                 \n",
       "\n",
       "                                               title   price       rank  \\\n",
       "0      Loud 'N Clear&trade; Personal Sound Amplifier          2938573.0   \n",
       "1  No7 Lift &amp; Luminate Triple Action Serum 50...  $44.99   872854.0   \n",
       "\n",
       "                                         description  overall_mean  \\\n",
       "0  [Loud 'N Clear Personal Sound Amplifier allows...           2.5   \n",
       "1  [No7 Lift & Luminate Triple Action Serum 50ml ...           3.0   \n",
       "\n",
       "   reviews_count  \n",
       "0              2  \n",
       "1              1  "
      ]
     },
     "execution_count": 8,
     "metadata": {},
     "output_type": "execute_result"
    }
   ],
   "source": [
    "# Demands\n",
    "overall_means = P2_df.groupby('asin')['overall'].mean()\n",
    "reivewed_times = P2_df.groupby('asin')['overall'].count()\n",
    "reviewd_data = pd.merge(left=overall_means, right=reivewed_times, left_index=True, right_index=True)\n",
    "reviewd_data.columns = ['overall_mean', 'reviews_count']\n",
    "df_merged = pd.merge(left=P1_df_cleaned, right=reviewd_data, left_on='asin', right_index=True)\n",
    "df_merged.head(2)"
   ]
  },
  {
   "cell_type": "code",
   "execution_count": 9,
   "id": "fd103a92-f98d-49df-8e06-346455e463c6",
   "metadata": {},
   "outputs": [
    {
     "name": "stdout",
     "output_type": "stream",
     "text": [
      "最高銷售排名的產品其使用者平均的評分為:\n",
      " 4.846153846153846\n",
      "最高銷售排名的產品其使用者評價次數為:\n",
      " 13\n"
     ]
    }
   ],
   "source": [
    "# Ans\n",
    "no1_full = df_merged[df_merged['title']==no1]\n",
    "\n",
    "## 1\n",
    "print(f'最高銷售排名的產品其使用者平均的評分為:\\n {no1_full.overall_mean.values[0]}')\n",
    "## 2\n",
    "print(f'最高銷售排名的產品其使用者評價次數為:\\n {no1_full.reviews_count.values[0]}')"
   ]
  }
 ],
 "metadata": {
  "kernelspec": {
   "display_name": "Python 3 (ipykernel)",
   "language": "python",
   "name": "python3"
  },
  "language_info": {
   "codemirror_mode": {
    "name": "ipython",
    "version": 3
   },
   "file_extension": ".py",
   "mimetype": "text/x-python",
   "name": "python",
   "nbconvert_exporter": "python",
   "pygments_lexer": "ipython3",
   "version": "3.7.11"
  },
  "toc-showcode": false
 },
 "nbformat": 4,
 "nbformat_minor": 5
}
