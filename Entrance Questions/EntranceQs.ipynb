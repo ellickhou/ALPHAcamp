{
 "cells": [
  {
   "cell_type": "code",
   "execution_count": 1,
   "id": "5d99e26e-7b79-4c99-bd25-6dac0a34c099",
   "metadata": {},
   "outputs": [],
   "source": [
    "import numpy as np\n",
    "import pandas as pd"
   ]
  },
  {
   "cell_type": "markdown",
   "id": "fe47d9b6-33e6-45af-a84d-09382958ad92",
   "metadata": {},
   "source": [
    "# Part 1 問題"
   ]
  },
  {
   "cell_type": "markdown",
   "id": "50c8d9bb-c0cd-49ff-b315-0598180c81b3",
   "metadata": {},
   "source": [
    "## Q1. 載入資料＆簡易分析\n",
    "\n",
    "要求：\n",
    "1. 請將上述 metadata 資料載入成為 Pandas 的 DataFrame\n",
    "    \n",
    "請回答：\n",
    "1. 在此份檔案當中，總共有多少筆資料？多少欄位？\n",
    "2. 在此份資料當中，擁有最多品項的前三名品牌為？"
   ]
  },
  {
   "cell_type": "code",
   "execution_count": 2,
   "id": "52928d28-00d1-482a-bc9d-6fd3d125ab4e",
   "metadata": {},
   "outputs": [],
   "source": [
    "# Demands\n",
    "P1_df = pd.read_json('./datasets/meta_All_Beauty.json', lines=True)"
   ]
  },
  {
   "cell_type": "code",
   "execution_count": 3,
   "id": "274cf236-2bb9-4785-b378-101a74aa30c1",
   "metadata": {},
   "outputs": [
    {
     "name": "stdout",
     "output_type": "stream",
     "text": [
      "rows: 32892, columns:19\n",
      "最多品項的前三名品牌為:\n",
      " VAGA               252\n",
      "L'Oreal Paris      113\n",
      "Philips Norelco     88\n",
      "Name: brand, dtype: int64\n"
     ]
    }
   ],
   "source": [
    "# P1_df.info()\n",
    "# P1_df.head()\n",
    "\n",
    "# Ans\n",
    "## 1\n",
    "print(f'rows: {P1_df.shape[0]}, columns:{P1_df.shape[1]}')\n",
    "\n",
    "## 2\n",
    "brands_cleaned = P1_df.brand.apply(str).replace('', np.nan)\n",
    "print('最多品項的前三名品牌為:\\n',brands_cleaned.dropna().value_counts().head(3))"
   ]
  },
  {
   "cell_type": "markdown",
   "id": "6f8606ce-5e20-4c5c-b81a-94afd801d4f4",
   "metadata": {},
   "source": [
    "## Q2. 清理資料＆調整格式\n",
    "\n",
    "要求：\n",
    "\n",
    "1. 移除資料中不必要的欄位，只留下 `'asin', 'brand', 'title', 'price', 'rank', 'description'`\n",
    "2. 將銷售排名 `rank` 中的排名字串抽取出來、轉為數字\n",
    "\n",
    "請回答：\n",
    "\n",
    "1. 找到資料中銷售排名最高的產品是第幾名？\n",
    "2. 最高銷售排名的產品為何？"
   ]
  },
  {
   "cell_type": "code",
   "execution_count": 4,
   "id": "544fbcf2-61d0-4c91-bf9e-5e62e4d28d59",
   "metadata": {},
   "outputs": [],
   "source": [
    "# Demands\n",
    "## 1\n",
    "P1_df_cleaned = P1_df[['asin', 'brand', 'title', 'price', 'rank', 'description']].copy()\n",
    "## 2\n",
    "#type(P1_df_cleaned['rank'][0])\n",
    "rank_split = P1_df_cleaned['rank'].str.split(' ', n=1, expand=True)\n",
    "rank_numbers = pd.to_numeric(rank_split[0].str.split(',').str.join(''))\n",
    "P1_df_cleaned['rank'] = rank_numbers"
   ]
  },
  {
   "cell_type": "code",
   "execution_count": 5,
   "id": "7a054f3d-216b-48b3-8fd7-f74cc4b10f6f",
   "metadata": {},
   "outputs": [
    {
     "name": "stdout",
     "output_type": "stream",
     "text": [
      "資料中銷售排名最高的產品是第 35.0 名\n",
      "最高銷售排名的產品為:\n",
      " Braun Clean &amp; Renew Refill Cartridges CCR, 4 Count (Packaging May Vary)\n"
     ]
    }
   ],
   "source": [
    "# Ans\n",
    "## 1\n",
    "print(f'資料中銷售排名最高的產品是第 {np.min(rank_numbers)} 名')\n",
    "\n",
    "## 2\n",
    "no1 = P1_df_cleaned.sort_values(by=['rank'])['title'].values[0]\n",
    "print(f'最高銷售排名的產品為:\\n {no1}')"
   ]
  },
  {
   "cell_type": "markdown",
   "id": "72232a10-86cd-470e-a246-480b7315c1c9",
   "metadata": {},
   "source": [
    "# Part 2 問題"
   ]
  },
  {
   "cell_type": "markdown",
   "id": "302a1973-28a2-42b0-96a1-e269b45435d9",
   "metadata": {},
   "source": [
    "## Q3. 聚合資料\n",
    "\n",
    "要求：\n",
    "\n",
    "1. pandas 載入美妝品的評價資料\n",
    "\n",
    "請回答：\n",
    "\n",
    "1. 找到評價數最多的產品其 asin\n",
    "2. 上述產品的評價次數為？\n",
    "3. 上述產品的平均評價為？"
   ]
  },
  {
   "cell_type": "code",
   "execution_count": 6,
   "id": "7de3d4d9-b4e1-4088-8936-4b0541978a5c",
   "metadata": {},
   "outputs": [],
   "source": [
    "# Demands\n",
    "P2_df = pd.read_json('./datasets/All_Beauty.json', lines=True)"
   ]
  },
  {
   "cell_type": "code",
   "execution_count": 7,
   "id": "f20589a1-abac-4add-a506-681d8d23cb78",
   "metadata": {},
   "outputs": [
    {
     "name": "stdout",
     "output_type": "stream",
     "text": [
      "價數最多的產品為:\n",
      " B000FOI48G\n",
      "上述產品的評價次數為:\n",
      " 8672\n",
      "上述產品的平均評價為:\n",
      " 4.393450184501845\n"
     ]
    }
   ],
   "source": [
    "# Ans\n",
    "\n",
    "## 1\n",
    "most_reivewed_asin = P2_df.asin.value_counts().index[0]\n",
    "print(f'價數最多的產品為:\\n {most_reivewed_asin}')\n",
    "\n",
    "## 2\n",
    "most_reivewed_times = P2_df.asin.value_counts().values[0]\n",
    "print(f'上述產品的評價次數為:\\n {most_reivewed_times}')\n",
    "\n",
    "## 3\n",
    "most_reivewed_overall_mean = P2_df.groupby('asin')['overall'].mean()[most_reivewed_asin]\n",
    "print(f'上述產品的平均評價為:\\n {most_reivewed_overall_mean}')"
   ]
  },
  {
   "cell_type": "markdown",
   "id": "5657ef23-5460-4f09-ac3f-93774680acf3",
   "metadata": {},
   "source": [
    "## Q4. 結合兩張表格\n",
    "\n",
    "要求：\n",
    "\n",
    "1. 將 Q2 取得的產品資料 DataFrame，加入 Q4 的評價資料作為欄位\n",
    "    1. `overall_mean` 紀錄產品的平均評分\n",
    "    2. `reviews_count` 紀錄評價次數\n",
    "\n",
    "請回答：\n",
    "\n",
    "1. 最高銷售排名的產品其使用者平均的評分？\n",
    "2. 最高銷售排名的產品其使用者評價次數？"
   ]
  },
  {
   "cell_type": "code",
   "execution_count": 8,
   "id": "ef0cd915-5ff4-4d67-bdbf-18ff449e6479",
   "metadata": {},
   "outputs": [
    {
     "data": {
      "text/html": [
       "<div>\n",
       "<style scoped>\n",
       "    .dataframe tbody tr th:only-of-type {\n",
       "        vertical-align: middle;\n",
       "    }\n",
       "\n",
       "    .dataframe tbody tr th {\n",
       "        vertical-align: top;\n",
       "    }\n",
       "\n",
       "    .dataframe thead th {\n",
       "        text-align: right;\n",
       "    }\n",
       "</style>\n",
       "<table border=\"1\" class=\"dataframe\">\n",
       "  <thead>\n",
       "    <tr style=\"text-align: right;\">\n",
       "      <th></th>\n",
       "      <th>asin</th>\n",
       "      <th>brand</th>\n",
       "      <th>title</th>\n",
       "      <th>price</th>\n",
       "      <th>rank</th>\n",
       "      <th>description</th>\n",
       "      <th>overall_mean</th>\n",
       "      <th>reviews_count</th>\n",
       "    </tr>\n",
       "  </thead>\n",
       "  <tbody>\n",
       "    <tr>\n",
       "      <td>0</td>\n",
       "      <td>6546546450</td>\n",
       "      <td>idea village</td>\n",
       "      <td>Loud 'N Clear&amp;trade; Personal Sound Amplifier</td>\n",
       "      <td></td>\n",
       "      <td>2938573.0</td>\n",
       "      <td>[Loud 'N Clear Personal Sound Amplifier allows...</td>\n",
       "      <td>2.5</td>\n",
       "      <td>2</td>\n",
       "    </tr>\n",
       "    <tr>\n",
       "      <td>1</td>\n",
       "      <td>7178680776</td>\n",
       "      <td></td>\n",
       "      <td>No7 Lift &amp;amp; Luminate Triple Action Serum 50...</td>\n",
       "      <td>$44.99</td>\n",
       "      <td>872854.0</td>\n",
       "      <td>[No7 Lift &amp; Luminate Triple Action Serum 50ml ...</td>\n",
       "      <td>3.0</td>\n",
       "      <td>1</td>\n",
       "    </tr>\n",
       "  </tbody>\n",
       "</table>\n",
       "</div>"
      ],
      "text/plain": [
       "         asin         brand  \\\n",
       "0  6546546450  idea village   \n",
       "1  7178680776                 \n",
       "\n",
       "                                               title   price       rank  \\\n",
       "0      Loud 'N Clear&trade; Personal Sound Amplifier          2938573.0   \n",
       "1  No7 Lift &amp; Luminate Triple Action Serum 50...  $44.99   872854.0   \n",
       "\n",
       "                                         description  overall_mean  \\\n",
       "0  [Loud 'N Clear Personal Sound Amplifier allows...           2.5   \n",
       "1  [No7 Lift & Luminate Triple Action Serum 50ml ...           3.0   \n",
       "\n",
       "   reviews_count  \n",
       "0              2  \n",
       "1              1  "
      ]
     },
     "execution_count": 8,
     "metadata": {},
     "output_type": "execute_result"
    }
   ],
   "source": [
    "# Demands\n",
    "overall_means = P2_df.groupby('asin')['overall'].mean()\n",
    "reivewed_times = P2_df.groupby('asin')['overall'].count()\n",
    "reviewd_data = pd.merge(left=overall_means, right=reivewed_times, left_index=True, right_index=True)\n",
    "reviewd_data.columns = ['overall_mean', 'reviews_count']\n",
    "df_merged = pd.merge(left=P1_df_cleaned, right=reviewd_data, left_on='asin', right_index=True)\n",
    "df_merged.head(2)"
   ]
  },
  {
   "cell_type": "code",
   "execution_count": 9,
   "id": "2bce90c2-bc4d-4f42-af76-a07a6980e1a0",
   "metadata": {},
   "outputs": [
    {
     "name": "stdout",
     "output_type": "stream",
     "text": [
      "最高銷售排名的產品其使用者平均的評分為:\n",
      " 4.846153846153846\n",
      "最高銷售排名的產品其使用者評價次數為:\n",
      " 13\n"
     ]
    }
   ],
   "source": [
    "# Ans\n",
    "no1_full = df_merged[df_merged['title']==no1]\n",
    "## 1\n",
    "print(f'最高銷售排名的產品其使用者平均的評分為:\\n {no1_full.overall_mean.values[0]}')\n",
    "\n",
    "##2\n",
    "print(f'最高銷售排名的產品其使用者評價次數為:\\n {no1_full.reviews_count.values[0]}')"
   ]
  }
 ],
 "metadata": {
  "kernelspec": {
   "display_name": "Python 3 (ipykernel)",
   "language": "python",
   "name": "python3"
  },
  "language_info": {
   "codemirror_mode": {
    "name": "ipython",
    "version": 3
   },
   "file_extension": ".py",
   "mimetype": "text/x-python",
   "name": "python",
   "nbconvert_exporter": "python",
   "pygments_lexer": "ipython3",
   "version": "3.7.11"
  }
 },
 "nbformat": 4,
 "nbformat_minor": 5
}
